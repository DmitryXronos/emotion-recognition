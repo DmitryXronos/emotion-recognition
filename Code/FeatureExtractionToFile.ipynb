{
 "nbformat": 4,
 "nbformat_minor": 0,
 "metadata": {
  "colab": {
   "name": "FeatureExtractionToFile.ipynb",
   "provenance": [],
   "collapsed_sections": [],
   "authorship_tag": "ABX9TyOVKMY2kgGsnjevMoLj3hQq"
  },
  "kernelspec": {
   "name": "python3",
   "display_name": "Python 3"
  }
 },
 "cells": [
  {
   "cell_type": "code",
   "metadata": {
    "id": "raGObo94w3Xs",
    "executionInfo": {
     "status": "ok",
     "timestamp": 1618835124675,
     "user_tz": -180,
     "elapsed": 1266,
     "user": {
      "displayName": "Дмитрий Власенко",
      "photoUrl": "https://lh3.googleusercontent.com/a-/AOh14GhxK5b9Ha1B93wLbVLU6Gji0q-TzhRy92B-24jM=s64",
      "userId": "07184871470483128475"
     }
    },
    "pycharm": {
     "name": "#%%\n"
    }
   },
   "source": [
    "import os\n",
    "\n",
    "import librosa\n",
    "import pandas as pd\n",
    "import numpy as np\n",
    "\n",
    "import common"
   ],
   "execution_count": 1,
   "outputs": []
  },
  {
   "cell_type": "code",
   "metadata": {
    "id": "jzB_isz7rJ06",
    "executionInfo": {
     "status": "ok",
     "timestamp": 1618835249759,
     "user_tz": -180,
     "elapsed": 126328,
     "user": {
      "displayName": "Дмитрий Власенко",
      "photoUrl": "https://lh3.googleusercontent.com/a-/AOh14GhxK5b9Ha1B93wLbVLU6Gji0q-TzhRy92B-24jM=s64",
      "userId": "07184871470483128475"
     }
    },
    "pycharm": {
     "name": "#%%\n"
    }
   },
   "source": [
    "# EXTRACT FEATURES AND LABELS\n",
    "\n",
    "labels = []\n",
    "features = []\n",
    "\n",
    "for filename in os.listdir(common.DataPath):\n",
    "    try:\n",
    "        # Get MFCC from audio file\n",
    "        y, sr = librosa.load(f'{common.DataPath}{os.sep}{filename}', sr=44100)\n",
    "        mfcc = librosa.feature.mfcc(y=y, sr=sr)\n",
    "        mfcc_list = []\n",
    "        for e in mfcc:\n",
    "            mfcc_list.append(np.mean(e))\n",
    "        features.append(mfcc_list)\n",
    "        # Get label from audio file\n",
    "        labels.append(common.extract_label_from_filename(filename))\n",
    "    except Exception as ex:\n",
    "        print(ex)"
   ],
   "execution_count": 2,
   "outputs": []
  },
  {
   "cell_type": "code",
   "metadata": {
    "id": "zuhicD3ixaFU",
    "executionInfo": {
     "status": "ok",
     "timestamp": 1618835249764,
     "user_tz": -180,
     "elapsed": 126328,
     "user": {
      "displayName": "Дмитрий Власенко",
      "photoUrl": "https://lh3.googleusercontent.com/a-/AOh14GhxK5b9Ha1B93wLbVLU6Gji0q-TzhRy92B-24jM=s64",
      "userId": "07184871470483128475"
     }
    },
    "pycharm": {
     "name": "#%%\n"
    }
   },
   "source": [
    "# SAVE FEATURES AND LABELS TO FILE\n",
    "\n",
    "pd.DataFrame(labels).to_csv(common.LabelsPath, index = False)\n",
    "pd.DataFrame(features).to_csv(common.FeaturesPath, index = False)"
   ],
   "execution_count": 3,
   "outputs": []
  },
  {
   "cell_type": "code",
   "metadata": {
    "colab": {
     "base_uri": "https://localhost:8080/"
    },
    "id": "f6YGMmAWJoFB",
    "executionInfo": {
     "status": "ok",
     "timestamp": 1618835249765,
     "user_tz": -180,
     "elapsed": 126324,
     "user": {
      "displayName": "Дмитрий Власенко",
      "photoUrl": "https://lh3.googleusercontent.com/a-/AOh14GhxK5b9Ha1B93wLbVLU6Gji0q-TzhRy92B-24jM=s64",
      "userId": "07184871470483128475"
     }
    },
    "outputId": "c086ca91-cbd2-48da-9f39-40cb7a9c7df2",
    "pycharm": {
     "name": "#%%\n"
    }
   },
   "source": [
    "# TESTING THE CORRECTNESS OF SAVING\n",
    "\n",
    "print(pd.read_csv(common.FeaturesPath))\n",
    "print(pd.read_csv(common.LabelsPath))"
   ],
   "execution_count": 4,
   "outputs": [
    {
     "name": "stdout",
     "output_type": "stream",
     "text": [
      "             0           1          2          3          4          5  \\\n",
      "0   -349.26285  145.592820 -32.464077  28.002096  20.528128  -8.359770   \n",
      "1   -333.51657  161.739880 -15.308787  17.897453  25.021389  -1.023871   \n",
      "2   -302.45790  131.192950 -58.150320   9.090328  14.878675 -13.740551   \n",
      "3   -326.71454  124.590320 -41.562984  25.652998  11.330573 -11.755372   \n",
      "4   -311.87442  155.128810 -14.279179  27.604437  30.936337   1.580778   \n",
      "..         ...         ...        ...        ...        ...        ...   \n",
      "530 -301.05300  138.391070 -43.005157  39.879610  35.652290 -13.154540   \n",
      "531 -293.36093  126.417816 -32.903560  34.114777  31.949587  -2.326269   \n",
      "532 -331.63864  123.724930 -29.637888  37.968536  36.542790  -0.045366   \n",
      "533 -407.86334  114.309610 -83.466630  27.151518  22.594940 -32.697880   \n",
      "534 -323.32898  120.618850 -89.170640  28.398602  20.440845 -33.772930   \n",
      "\n",
      "             6          7          8         9         10         11  \\\n",
      "0    16.956581  -7.841198 -10.906594  5.073165  -9.369836   1.147139   \n",
      "1    10.602450  -1.603781  -6.771310 -2.989725  -9.876682   5.138753   \n",
      "2    10.111158  -6.769932 -10.061276 -1.787112 -13.941024  -0.743548   \n",
      "3    17.575370 -10.094900  -8.935339  2.004787 -17.567066  -4.113834   \n",
      "4    12.849335  -1.246217  -5.081117 -1.768881 -12.034891   1.557543   \n",
      "..         ...        ...        ...       ...        ...        ...   \n",
      "530   8.070106  -7.999043 -12.449683  1.911898  -9.334578  -2.493002   \n",
      "531  18.387096   0.403526  -7.426133  3.271966  -5.245716   0.700718   \n",
      "532  18.544085   2.603103  -2.293267  8.206195  -5.179078   0.087470   \n",
      "533   1.728367  -9.790481 -14.297148 -0.765928 -17.578590 -13.227795   \n",
      "534   3.427244  -9.488761  -9.600873  1.290097 -16.608437  -8.037538   \n",
      "\n",
      "           12         13        14         15        16        17         18  \\\n",
      "0    3.984740  -8.090223  1.361663  -1.550803 -3.128631  4.986587  -2.916270   \n",
      "1    7.701493  -3.307460  4.470550  -0.528086 -6.379418  5.094747   3.552078   \n",
      "2    0.279855  -8.952500  1.041761  -3.856852 -4.489686  2.312340  -5.582737   \n",
      "3   -3.454876 -10.750601  2.098030  -8.367553 -7.923384  4.010259  -5.870879   \n",
      "4    4.011011  -5.459498  3.302619  -0.435566 -4.740553  2.869545   0.199005   \n",
      "..        ...        ...       ...        ...       ...       ...        ...   \n",
      "530  0.001612  -8.024912 -3.685528  -5.792825 -0.251413  2.429088  -8.942431   \n",
      "531  2.470510  -2.783872 -2.281692  -7.040128  2.915447  5.716351 -10.796571   \n",
      "532  4.662376  -2.611508 -0.349580  -2.567074  2.942863  7.257375  -5.782256   \n",
      "533 -7.455314  -8.281892 -5.099570 -11.871194  0.059087  2.899188 -13.310399   \n",
      "534 -8.072445  -8.117286  0.941644  -9.209003  1.341054  2.835734 -11.886232   \n",
      "\n",
      "           19  \n",
      "0   -3.361526  \n",
      "1   -2.882309  \n",
      "2   -3.624771  \n",
      "3   -4.695420  \n",
      "4   -1.616556  \n",
      "..        ...  \n",
      "530 -4.608192  \n",
      "531 -7.873611  \n",
      "532 -7.694022  \n",
      "533 -1.980749  \n",
      "534  5.300497  \n",
      "\n",
      "[535 rows x 20 columns]\n",
      "     0\n",
      "0    5\n",
      "1    0\n",
      "2    1\n",
      "3    5\n",
      "4    0\n",
      "..  ..\n",
      "530  2\n",
      "531  6\n",
      "532  6\n",
      "533  1\n",
      "534  1\n",
      "\n",
      "[535 rows x 1 columns]\n"
     ]
    }
   ]
  }
 ]
}